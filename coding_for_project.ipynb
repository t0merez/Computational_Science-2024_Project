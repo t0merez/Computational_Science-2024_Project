{
 "cells": [
  {
   "cell_type": "markdown",
   "metadata": {
    "collapsed": false
   },
   "source": [
    "**Project 2024 \\-  the length of a word depending on it's usage in a book**\n",
    "\n",
    "<u>Properties:</u>\n",
    "\n",
    "_Author_\n",
    "\n",
    "_Time book was written_\n",
    "\n",
    "_Genre of Book_\n",
    "\n",
    "_Success of Book_\n",
    "\n",
    "**In addition, will receive a section of a book from a list of authors. The author of the book is unknown. Will try to calculate the chance of what author the book was written by by checking the length of a word depending on the probability of choosing the word in a book.**\n",
    "\n"
   ]
  },
  {
   "cell_type": "code",
   "execution_count": 0,
   "metadata": {
    "collapsed": false
   },
   "outputs": [
   ],
   "source": [
   ]
  },
  {
   "cell_type": "markdown",
   "metadata": {
    "collapsed": false
   },
   "source": [
    "**Make lists of words from book**\n"
   ]
  },
  {
   "cell_type": "code",
   "execution_count": 4,
   "metadata": {
    "collapsed": false,
    "scrolled": true
   },
   "outputs": [
   ],
   "source": [
    "\n",
    "import requests\n",
    "import re\n",
    "\n",
    "def get_words_from_gutenberg(url):\n",
    "    # Fetching the content of the file from the Gutenberg project\n",
    "    response = requests.get(url)\n",
    "    if response.status_code != 200:\n",
    "        print(\"Failed to fetch the content.\")\n",
    "        return []\n",
    "\n",
    "    # Extracting text from the response\n",
    "    text = response.text\n",
    "\n",
    "    # Tokenizing the text into words and filtering out non-ASCII words\n",
    "    words = re.findall(r'\\b[a-zA-Z]+\\b', text)\n",
    "\n",
    "    return words\n"
   ]
  },
  {
   "cell_type": "markdown",
   "metadata": {
    "collapsed": false
   },
   "source": [
    "**Make a dictionary of a single url where the key is the length and the item is the number of times that length has appeared**\n",
    "\n"
   ]
  },
  {
   "cell_type": "code",
   "execution_count": 5,
   "metadata": {
    "collapsed": false
   },
   "outputs": [
   ],
   "source": [
    "\n",
    "def dictOfLengths(url):\n",
    "    words = get_words_from_gutenberg(url)\n",
    "    \n",
    "    length_dict = {}\n",
    "    for word in words:\n",
    "        if len(word) in length_dict:\n",
    "            length_dict[len(word)] += 1\n",
    "        else:\n",
    "            length_dict[len(word)] = 1\n",
    "    return length_dict\n"
   ]
  },
  {
   "cell_type": "markdown",
   "metadata": {
    "collapsed": false
   },
   "source": [
    "**Make a dictionary out of multiple urls where the key is the length and the item is the number of times that length has appeared**\n",
    "\n"
   ]
  },
  {
   "cell_type": "code",
   "execution_count": 6,
   "metadata": {
    "collapsed": false
   },
   "outputs": [
    {
     "name": "stdout",
     "output_type": "stream",
     "text": [
      "{3: 0.22854325941813403, 7: 0.05924170616113744, 9: 0.024379907980765905, 5: 0.10596914242225067, 2: 0.1892534680181271, 10: 0.014140173660359082, 8: 0.03689417788079012, 6: 0.07978171377175079, 4: 0.19096585602103297, 12: 0.003364237036012039, 1: 0.05926765143390874, 11: 0.00607119382848445, 13: 0.0014702321237070606, 14: 0.0005189054554260214, 17: 1.7296848514200714e-05, 15: 9.513266682810392e-05, 18: 8.648424257100357e-06, 16: 1.7296848514200714e-05}\n"
     ]
    }
   ],
   "source": [
    "\n",
    "def dictOfLengthsMultiple(url_list):\n",
    "    result_dict = {}\n",
    "    for url in url_list:\n",
    "        curr_dict = dictOfLengths(url)\n",
    "        for key in curr_dict:\n",
    "            if key in result_dict:\n",
    "                result_dict[key] += curr_dict[key]\n",
    "            else:\n",
    "                result_dict[key] = curr_dict[key]\n",
    "    sum = 0\n",
    "    for key in result_dict:\n",
    "        sum += result_dict[key]\n",
    "    for key in result_dict: \n",
    "        result_dict[key] = result_dict[key]/sum\n",
    "    return result_dict\n",
    "\n",
    "gutenberg_list = [\"https://www.gutenberg.org/files/1661/1661-0.txt\",\"https://www.gutenberg.org/cache/epub/12209/pg12209.txt\"]\n",
    "print(dictOfLengthsMultiple(gutenberg_list))"
   ]
  },
  {
   "cell_type": "markdown",
   "metadata": {
    "collapsed": false
   },
   "source": [
    "**Data structures of dictionary**\n",
    "\n"
   ]
  },
  {
   "cell_type": "code",
   "execution_count": 7,
   "metadata": {
    "collapsed": false
   },
   "outputs": [
    {
     "data": {
      "image/png": "[encoded data removed]",
      "text/plain": "<Figure size 1200x700 with 1 Axes>"
     },
     "metadata": {
      "image/png": {
       "height": 623,
       "width": 1010
      }
     }
    }
   ],
   "source": [
    "\n",
    "import matplotlib.pyplot as plt\n",
    "\n",
    "def draw_histogram(data):\n",
    "    keys = list(data.keys())\n",
    "    values = list(data.values())\n",
    "\n",
    "    plt.bar(keys, values)\n",
    "    plt.xlabel('Categories')\n",
    "    plt.ylabel('Frequency/Count')\n",
    "    plt.title('Histogram')\n",
    "    plt.show()\n",
    "\n",
    "draw_histogram(dictOfLengthsMultiple(gutenberg_list))"
   ]
  },
  {
   "cell_type": "markdown",
   "metadata": {
    "collapsed": false
   },
   "source": [
    "According to the above histogram the most frequent length is 3. In addition the frequency of the lengths go up the closer the length is to 4.\n",
    "\n"
   ]
  },
  {
   "cell_type": "markdown",
   "metadata": {
    "collapsed": false
   },
   "source": [
    "**Zip Law**\n",
    "\n",
    "**Find frequency of each word length**\n",
    "\n",
    "**Order by power \\- highest to lowest**\n",
    "\n",
    "**Draw graph by log log of power and frequency** \n",
    "\n",
    "**See if there are differences and if each author or era gets identification.**\n"
   ]
  },
  {
   "cell_type": "code",
   "execution_count": 8,
   "metadata": {
    "collapsed": false
   },
   "outputs": [
    {
     "name": "stdout",
     "output_type": "stream",
     "text": [
      "Appending to coding_for_project.py\n"
     ]
    }
   ],
   "source": [
    "%%writefile -a coding_for_project.py \n",
    "def orderDictByFrequency(powerFrequencyLength):\n",
    "    ls = []\n",
    "    \n",
    "    for length in powerFrequencyLength:\n",
    "        ls.append(powerFrequencyLength[length])\n",
    "    ls.sort(reverse=True)  \n",
    "    return ls\n"
   ]
  },
  {
   "cell_type": "code",
   "execution_count": 0,
   "metadata": {
    "collapsed": false
   },
   "outputs": [
   ],
   "source": [
   ]
  }
 ],
 "metadata": {
  "kernelspec": {
   "argv": [
    "/ext/jupyter/kernels/anaconda2022/launch.sh",
    "{connection_file}"
   ],
   "display_name": "Python 3 (Anaconda 2022)",
   "env": {
   },
   "language": "python",
   "metadata": {
    "cocalc": {
     "description": "Anaconda 2022.05 Python 3 environment",
     "priority": 5,
     "url": "https://www.anaconda.com/distribution/"
    }
   },
   "name": "anaconda2022",
   "resource_dir": "/ext/jupyter/kernels/anaconda2022"
  },
  "language_info": {
   "codemirror_mode": {
    "name": "ipython",
    "version": 3
   },
   "file_extension": ".py",
   "mimetype": "text/x-python",
   "name": "python",
   "nbconvert_exporter": "python",
   "pygments_lexer": "ipython3",
   "version": "3.9.15"
  }
 },
 "nbformat": 4,
 "nbformat_minor": 4
}